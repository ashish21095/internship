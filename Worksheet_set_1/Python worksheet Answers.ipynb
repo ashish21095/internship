{
 "cells": [
  {
   "cell_type": "markdown",
   "metadata": {},
   "source": [
    "## Python MCQ Answers\n",
    "1.(C)\n",
    "\n",
    "2.(B)\n",
    "\n",
    "3.(C)\n",
    "\n",
    "4.(A)\n",
    "\n",
    "5.(D)\n",
    "\n",
    "6.(C)\n",
    "\n",
    "7.(A)\n",
    "\n",
    "8.(C)\n",
    "\n",
    "9.(A), (C)\n",
    "\n",
    "10.(A), (B)"
   ]
  },
  {
   "cell_type": "code",
   "execution_count": 1,
   "metadata": {},
   "outputs": [
    {
     "name": "stdout",
     "output_type": "stream",
     "text": [
      "Enter the number5\n",
      "number :  5\n",
      "Factorial :  120\n"
     ]
    }
   ],
   "source": [
    "def factorial(n): \n",
    "    if (n==1 or n==0):     \n",
    "        return 1    \n",
    "    else:  \n",
    "        return (n * factorial(n - 1)) \n",
    "  \n",
    "\n",
    "num = int(input('Enter the number')) \n",
    "print(\"number : \",num)\n",
    "print(\"Factorial : \",factorial(num))"
   ]
  },
  {
   "cell_type": "code",
   "execution_count": 108,
   "metadata": {},
   "outputs": [
    {
     "name": "stdout",
     "output_type": "stream",
     "text": [
      "15 is a composite number\n",
      "19 is a prime number\n",
      "12 is a composite number\n",
      "3 is a prime number\n"
     ]
    }
   ],
   "source": [
    "## prime or composite\n",
    "\n",
    "def prime_comp(number):\n",
    "    if number < 1:\n",
    "        return('number needs to be greater then 1')\n",
    "    elif number == 1:\n",
    "        return('number is neither prime nor composite')\n",
    "    else:\n",
    "        for num in range(2,(number//2) +1):\n",
    "            if (number % num) == 0:\n",
    "                return(f'{number} is a composite number')\n",
    "        else:\n",
    "            return(f'{number} is a prime number')\n",
    "        \n",
    "print(prime_comp(15))\n",
    "print(prime_comp(19))\n",
    "print(prime_comp(12))\n",
    "print(prime_comp(3))"
   ]
  },
  {
   "cell_type": "code",
   "execution_count": 23,
   "metadata": {
    "scrolled": true
   },
   "outputs": [
    {
     "name": "stdout",
     "output_type": "stream",
     "text": [
      "Ashish is not Palindrome\n",
      "malayalam is Palindrome\n"
     ]
    }
   ],
   "source": [
    "### program to find if string is palindrome\n",
    "\n",
    "def palindrome(str1):\n",
    "    if str1 == str1[::-1]:\n",
    "        return(f'{str1} is Palindrome')\n",
    "    else:\n",
    "        return(f'{str1} is not Palindrome')\n",
    "        \n",
    "        \n",
    "print(palindrome('Ashish'))\n",
    "print(palindrome('malayalam'))"
   ]
  },
  {
   "cell_type": "code",
   "execution_count": 84,
   "metadata": {},
   "outputs": [
    {
     "name": "stdout",
     "output_type": "stream",
     "text": [
      "hypotenuse value=7.8\n",
      "perpendicular value=5.3\n",
      "base value=8.0\n",
      "Invalid Input\n"
     ]
    }
   ],
   "source": [
    "### third side of right angle triangle\n",
    "import numpy as np\n",
    "\n",
    "def side_calc1(**kwargs):\n",
    "    if kwargs.get('hypotenuse',0) != 0 and kwargs.get('perpendicular',0) != 0:\n",
    "        base = np.sqrt( kwargs.get('hypotenuse')**2 - kwargs.get('perpendicular')**2)\n",
    "        return(f'base value={round(base,1)}')\n",
    "    elif kwargs.get('hypotenuse',0) != 0 and kwargs.get('base',0) != 0:\n",
    "        perpendicular = np.sqrt( kwargs.get('hypotenuse')**2 - kwargs.get('base')**2)\n",
    "        return(f'perpendicular value={round(perpendicular,1)}')\n",
    "    elif kwargs.get('perpendicular',0) != 0 and kwargs.get('base',0) != 0:\n",
    "        hypotenuse = np.sqrt( kwargs.get('base')**2 + kwargs.get('perpendicular')**2)\n",
    "        return(f'hypotenuse value={round(hypotenuse,1)}')\n",
    "    else:\n",
    "        return('Invalid Input')\n",
    "        \n",
    "print(side_calc1(perpendicular=5,base=6))\n",
    "print(side_calc1(hypotenuse=8,base=6))\n",
    "print(side_calc1(hypotenuse=10,perpendicular=6))\n",
    "print(side_calc1())"
   ]
  },
  {
   "cell_type": "code",
   "execution_count": 88,
   "metadata": {},
   "outputs": [
    {
     "name": "stdout",
     "output_type": "stream",
     "text": [
      "A occured 1 times\n",
      "s occured 2 times\n",
      "h occured 2 times\n",
      "i occured 1 times\n"
     ]
    }
   ],
   "source": [
    "# Write a python program to print the frequency of each of the characters present in a given string.\n",
    "from collections import Counter\n",
    "\n",
    "def count_func(str1):\n",
    "    count_dict = Counter(str1)\n",
    "    for key,val in count_dict.items():\n",
    "        print(f'{key} occured {val} times')\n",
    "        \n",
    "count_func('Ashish')\n",
    "    "
   ]
  }
 ],
 "metadata": {
  "kernelspec": {
   "display_name": "Python 3",
   "language": "python",
   "name": "python3"
  },
  "language_info": {
   "codemirror_mode": {
    "name": "ipython",
    "version": 3
   },
   "file_extension": ".py",
   "mimetype": "text/x-python",
   "name": "python",
   "nbconvert_exporter": "python",
   "pygments_lexer": "ipython3",
   "version": "3.7.6"
  }
 },
 "nbformat": 4,
 "nbformat_minor": 4
}
